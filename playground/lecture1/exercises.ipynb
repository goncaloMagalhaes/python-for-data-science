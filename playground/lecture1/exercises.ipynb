{
 "cells": [
  {
   "cell_type": "code",
   "execution_count": 5,
   "metadata": {},
   "outputs": [],
   "source": [
    "#\n",
    "# Recap\n",
    "#\n",
    "\n",
    "# str\n",
    "name = 'Goncalo'  # '' or \"\" is same\n",
    "hello_message = 'Hello, %s!' % name  # legacy"
   ]
  },
  {
   "cell_type": "code",
   "execution_count": 6,
   "metadata": {},
   "outputs": [
    {
     "name": "stdout",
     "output_type": "stream",
     "text": [
      "Hello, Goncalo!\n"
     ]
    }
   ],
   "source": [
    "print(f'Hello, {name}!')"
   ]
  },
  {
   "cell_type": "code",
   "execution_count": 7,
   "metadata": {},
   "outputs": [
    {
     "data": {
      "text/plain": [
       "'1 + 1 = 2'"
      ]
     },
     "execution_count": 7,
     "metadata": {},
     "output_type": "execute_result"
    }
   ],
   "source": [
    "f'1 + 1 = {1+1}'"
   ]
  },
  {
   "cell_type": "code",
   "execution_count": 8,
   "metadata": {},
   "outputs": [
    {
     "data": {
      "text/plain": [
       "'result = 2'"
      ]
     },
     "execution_count": 8,
     "metadata": {},
     "output_type": "execute_result"
    }
   ],
   "source": [
    "result = 1 + 1\n",
    "f'{result = }'"
   ]
  },
  {
   "cell_type": "code",
   "execution_count": 9,
   "metadata": {},
   "outputs": [
    {
     "data": {
      "text/plain": [
       "\"hello_message = 'Hello, Goncalo!'\""
      ]
     },
     "execution_count": 9,
     "metadata": {},
     "output_type": "execute_result"
    }
   ],
   "source": [
    "f'{hello_message = }'"
   ]
  },
  {
   "cell_type": "code",
   "execution_count": 15,
   "metadata": {},
   "outputs": [
    {
     "data": {
      "text/plain": [
       "float"
      ]
     },
     "execution_count": 15,
     "metadata": {},
     "output_type": "execute_result"
    }
   ],
   "source": [
    "# int\n",
    "number = 10 * 23 - 123123 // 12\n",
    "type(number)\n",
    "number = number / 3\n",
    "type(number)"
   ]
  },
  {
   "cell_type": "code",
   "execution_count": 13,
   "metadata": {},
   "outputs": [
    {
     "name": "stdout",
     "output_type": "stream",
     "text": [
      "10.2 <class 'float'>\n"
     ]
    }
   ],
   "source": [
    "# float\n",
    "decimal_number = 10.2\n",
    "print(decimal_number, type(decimal_number))\n",
    "decimal_number = 'adsasd'"
   ]
  },
  {
   "cell_type": "code",
   "execution_count": 16,
   "metadata": {},
   "outputs": [
    {
     "data": {
      "text/plain": [
       "False"
      ]
     },
     "execution_count": 16,
     "metadata": {},
     "output_type": "execute_result"
    }
   ],
   "source": [
    "# bool\n",
    "number = 2\n",
    "some_bool = True  # False\n",
    "is_1 = number == 1\n",
    "is_1\n",
    "none = None\n",
    "\n",
    "a = 10  # value assignment\n",
    "b = a  \n",
    "a = 20"
   ]
  },
  {
   "cell_type": "code",
   "execution_count": 36,
   "metadata": {},
   "outputs": [
    {
     "data": {
      "text/plain": [
       "10000"
      ]
     },
     "execution_count": 36,
     "metadata": {},
     "output_type": "execute_result"
    }
   ],
   "source": [
    "\n",
    "# list\n",
    "my_list = [1, 2, 3, 4, 10]  # reference\n",
    "my_list\n",
    "sum(my_list)\n",
    "my_list.append(20)\n",
    "my_list.extend([0, 0, 0, 0])\n",
    "my_list.insert(1, -10)\n",
    "\n",
    "my_list[0]\n",
    "my_list[1:3]\n",
    "my_list[:4]\n",
    "my_list[2:-1]\n",
    "\n",
    "my_list[0] = 50\n",
    "\n",
    "other_list = my_list\n",
    "my_list.append(10000)\n",
    "other_list[-1]"
   ]
  },
  {
   "cell_type": "code",
   "execution_count": 37,
   "metadata": {},
   "outputs": [
    {
     "name": "stdout",
     "output_type": "stream",
     "text": [
      "('Hello!', 12, [1, 2, 3])\n",
      "('Hello!', 12, [1, 2, 3, 4])\n"
     ]
    }
   ],
   "source": [
    "# tuple\n",
    "my_tuple = ('Goncalo', 'software dev', 26)\n",
    "# my_tuple[1] = 'aerospace eng'  # raises exception\n",
    "\n",
    "some_list = [1, 2, 3]\n",
    "another_tuple = ('Hello!', 12, some_list)  # some_list -> pointer \n",
    "print(another_tuple)\n",
    "another_tuple[2].append(4)\n",
    "print(another_tuple)\n",
    "\n",
    "name, job, age = my_tuple"
   ]
  },
  {
   "cell_type": "code",
   "execution_count": 43,
   "metadata": {},
   "outputs": [
    {
     "name": "stdout",
     "output_type": "stream",
     "text": [
      "dict_values(['Goncalo', 'software dev', 50, 3]) dict_keys(['name', 'job', 'age', 'kids']) dict_items([('name', 'Goncalo'), ('job', 'software dev'), ('age', 50), ('kids', 3)])\n",
      "key='name', value='Goncalo'\n",
      "key='job', value='software dev'\n"
     ]
    }
   ],
   "source": [
    "# dicts\n",
    "dictionary = {'name': 'Goncalo', 'job': 'software dev', 'age': 26}\n",
    "dictionary['age'] = 50\n",
    "dictionary['kids'] = 3\n",
    "print(dictionary.values(), dictionary.keys(), dictionary.items())\n",
    "\n",
    "for key, value in dictionary.items():\n",
    "    if isinstance(value, str):\n",
    "        print(f'{key=}, {value=}')\n",
    "\n",
    "\n",
    "import copy\n",
    "same_dict = dictionary\n",
    "same_dict['name'] = 'Pedro'\n",
    "dictionary['name']\n",
    "other_dict = copy.deepcopy(dictionary)\n",
    "other_dict['name'] = 'Joao'\n",
    "dictionary['name']\n",
    "\n",
    "new_dict = {'name' : 'G', 'name': 'P'}\n"
   ]
  },
  {
   "cell_type": "code",
   "execution_count": 51,
   "metadata": {},
   "outputs": [
    {
     "data": {
      "text/plain": [
       "{1, 2, 3, 4, 5}"
      ]
     },
     "execution_count": 51,
     "metadata": {},
     "output_type": "execute_result"
    }
   ],
   "source": [
    "#\n",
    "# Dicts & sets -> hash tables -> no key repetition\n",
    "#\n",
    "my_set = {1, 2, 'hello'}\n",
    "my_set.update({1, 2, 3, 4})\n",
    "set([1, 1, 1, 2, 3, 4, 1, 4, 4, 5, 3])  # 1-10\n",
    "#  my_set[0]  # raises exception\n",
    "\n"
   ]
  },
  {
   "cell_type": "code",
   "execution_count": 55,
   "metadata": {},
   "outputs": [
    {
     "name": "stdout",
     "output_type": "stream",
     "text": [
      "['R', 'L']\n",
      "\n",
      "Magalhaes\n"
     ]
    },
    {
     "data": {
      "text/plain": [
       "Person(Goncalo Magalhaes,26)"
      ]
     },
     "execution_count": 55,
     "metadata": {},
     "output_type": "execute_result"
    }
   ],
   "source": [
    "# Classes\n",
    "\n",
    "class Person:\n",
    "    def __init__(self, name: str, age: int, job: str, kids: list) -> None:\n",
    "        self.name = name\n",
    "        self.age = age\n",
    "        self.job = job\n",
    "        self.kids = kids\n",
    "\n",
    "    def __repr__(self) -> str:\n",
    "        return f'Person({self.name},{self.age})'\n",
    "\n",
    "    def has_kids(self) -> bool:\n",
    "        return len(self.kids) > 0\n",
    "\n",
    "    def last_name(self) -> str:\n",
    "        names = self.name.split(' ')\n",
    "        if len(names) > 1:\n",
    "            return names[-1]\n",
    "        else:\n",
    "            return ''\n",
    "\n",
    "goncalo = Person('Gon', 26, 'dev', ['R', 'L'])\n",
    "if goncalo.has_kids():\n",
    "    print(goncalo.kids)\n",
    "print(goncalo.last_name())\n",
    "\n",
    "goncalo.name = 'Goncalo Magalhaes'\n",
    "print(goncalo.last_name())\n",
    "goncalo\n"
   ]
  },
  {
   "cell_type": "code",
   "execution_count": 60,
   "metadata": {},
   "outputs": [
    {
     "name": "stdout",
     "output_type": "stream",
     "text": [
      "range(0, 10) <class 'range'>\n",
      "0 1 3 6 10 15 21 28 36 45 \n",
      "\n",
      "heep heep hurray!\n",
      "heep heep hurray!\n",
      "heep heep hurray!\n"
     ]
    }
   ],
   "source": [
    "# range\n",
    "print(my_range := range(10), type(my_range))\n",
    "list(my_range)\n",
    "list(range(2, 30, 3))\n",
    "\n",
    "sum_all = 0\n",
    "for i in range(10):\n",
    "    sum_all += i\n",
    "    print(sum_all, end=' ')\n",
    "print('\\n')\n",
    "# equivalent of C's for(int i = 0; i < 10; i++)\n",
    "\n",
    "for _ in range(3):\n",
    "    print('heep heep hurray!')\n",
    "\n",
    "\n"
   ]
  },
  {
   "cell_type": "code",
   "execution_count": 70,
   "metadata": {},
   "outputs": [
    {
     "name": "stdout",
     "output_type": "stream",
     "text": [
      "Howdy, Joao!\n",
      "Howdy, Pedro!\n",
      "Max age is 35\n"
     ]
    },
    {
     "data": {
      "text/plain": [
       "Person(name='m', age=35)"
      ]
     },
     "execution_count": 70,
     "metadata": {},
     "output_type": "execute_result"
    }
   ],
   "source": [
    "# lambdas -> anonymous function\n",
    "def greet(name: str) -> str:\n",
    "    # 1-liner, can become a lambda\n",
    "    return f'Howdy, {name}!'\n",
    "\n",
    "print(greet('Joao'))\n",
    "print((lambda name: f'Howdy, {name}!')('Pedro'))\n",
    "\n",
    "import collections\n",
    "Person = collections.namedtuple('Person', ['name', 'age'])\n",
    "persons = [\n",
    "    Person('z', 26),\n",
    "    Person('j', 30),\n",
    "    Person('m', 35)\n",
    "]\n",
    "\n",
    "older_person = persons[0]\n",
    "for person in persons:\n",
    "    if person.age > older_person.age:\n",
    "        older_person = person\n",
    "\n",
    "print('Max age is', older_person.age)\n",
    "\n",
    "older_person = max(persons, key=lambda person: person.age)\n",
    "older_person\n",
    "\n",
    "\n",
    "\n"
   ]
  },
  {
   "cell_type": "code",
   "execution_count": 73,
   "metadata": {},
   "outputs": [
    {
     "name": "stdout",
     "output_type": "stream",
     "text": [
      "[Person(name=g, age=26), Person(name=j, age=30), Person(name=m, age=15)]\n",
      "[Person(name=g, age=27), Person(name=j, age=31), Person(name=m, age=16)]\n"
     ]
    }
   ],
   "source": [
    "# map\n",
    "\n",
    "from typing import List\n",
    "\n",
    "class Person:\n",
    "    def __init__(self, name: str, age: int) -> None:\n",
    "        self.name = name\n",
    "        self.age = age\n",
    "\n",
    "    def __repr__(self) -> str:\n",
    "        return f'Person(name={self.name}, age={self.age})'\n",
    "\n",
    "persons = [\n",
    "    Person('g', 26),\n",
    "    Person('j', 30),\n",
    "    Person('m', 15)\n",
    "]\n",
    "\n",
    "def pass_year(persons: List[Person]) -> List[Person]:\n",
    "    # v1\n",
    "    # older_persons = []\n",
    "    # for person in persons:\n",
    "    #     older_persons.append(Person(person.name, person.age+1))\n",
    "    # return older_persons\n",
    "    \n",
    "    # v2\n",
    "    # return list(map(\n",
    "    #     lambda person: Person(person.name, person.age+1), \n",
    "    #     persons\n",
    "    # ))\n",
    "\n",
    "    # v3\n",
    "    return [Person(person.name, person.age+1) for person in persons]\n",
    "\n",
    "print(persons)\n",
    "print(pass_year(persons))\n",
    "\n"
   ]
  },
  {
   "cell_type": "code",
   "execution_count": 78,
   "metadata": {},
   "outputs": [
    {
     "data": {
      "text/plain": [
       "[Person(name=g, age=26), Person(name=j, age=30)]"
      ]
     },
     "execution_count": 78,
     "metadata": {},
     "output_type": "execute_result"
    }
   ],
   "source": [
    "some_list = [1, 2, 3, 4]\n",
    "list(map(lambda n: n*'*', some_list))\n",
    "\n",
    "# filter\n",
    "list(filter(lambda n: n % 2 == 0, some_list))\n",
    "list(filter(lambda person: person.age > 20, persons))"
   ]
  },
  {
   "cell_type": "code",
   "execution_count": 82,
   "metadata": {},
   "outputs": [
    {
     "name": "stdout",
     "output_type": "stream",
     "text": [
      "[1, 2, 3, 4, 5, 6, 7, 8, 9, 10]\n"
     ]
    },
    {
     "data": {
      "text/plain": [
       "[2, 6, 6, 12, 10, 18, 14, 24, 18, 30]"
      ]
     },
     "execution_count": 82,
     "metadata": {},
     "output_type": "execute_result"
    }
   ],
   "source": [
    "# listcomp\n",
    "numbers = [1, 2, 3, 4, 5, 6, 7, 8, 9, 10]\n",
    "# equivalent to map\n",
    "mul_by_2 = [2*n for n in numbers]\n",
    "# equivalent to filter\n",
    "divisible_by_2 = [n for n in numbers if n % 2 == 0]\n",
    "# both\n",
    "other_numbers = [2*n for n in numbers if n % 2 == 0]\n",
    "# if and else\n",
    "other_other_numbers = [\n",
    "    2*n \n",
    "    if n % 2 != 0 \n",
    "    else 3*n \n",
    "    for n in numbers\n",
    "]\n",
    "print(numbers)\n",
    "other_other_numbers\n",
    "\n"
   ]
  },
  {
   "cell_type": "code",
   "execution_count": 87,
   "metadata": {},
   "outputs": [
    {
     "name": "stdout",
     "output_type": "stream",
     "text": [
      "{'g': 26, 'j': 30, 'm': 15}\n",
      "{'m', 'g', 'j'}\n"
     ]
    }
   ],
   "source": [
    "# dict comp , set comp\n",
    "person_dictionary = {person.name: person.age for person in persons}\n",
    "print(person_dictionary)\n",
    "person_names = {person.name for person in persons}\n",
    "print(person_names)"
   ]
  },
  {
   "cell_type": "code",
   "execution_count": 95,
   "metadata": {},
   "outputs": [
    {
     "name": "stdout",
     "output_type": "stream",
     "text": [
      "2\n",
      "4\n",
      "Start loop\n",
      "6\n",
      "8\n",
      "10\n",
      "12\n",
      "14\n",
      "16\n",
      "18\n",
      "20\n"
     ]
    }
   ],
   "source": [
    "# genexp - Generator expressions\n",
    "genexp_numbers = (2*n for n in numbers)\n",
    "genexp_numbers\n",
    "print(next(genexp_numbers))\n",
    "print(next(genexp_numbers))\n",
    "print('Start loop')\n",
    "for n in genexp_numbers:\n",
    "    print(n)\n",
    "# next(genexp_numbers)  # raises exception"
   ]
  },
  {
   "cell_type": "code",
   "execution_count": null,
   "metadata": {},
   "outputs": [],
   "source": []
  }
 ],
 "metadata": {
  "kernelspec": {
   "display_name": "Python 3 (ipykernel)",
   "language": "python",
   "name": "python3"
  },
  "language_info": {
   "codemirror_mode": {
    "name": "ipython",
    "version": 3
   },
   "file_extension": ".py",
   "mimetype": "text/x-python",
   "name": "python",
   "nbconvert_exporter": "python",
   "pygments_lexer": "ipython3",
   "version": "3.10.4"
  },
  "orig_nbformat": 4,
  "vscode": {
   "interpreter": {
    "hash": "974ac391b4869bf8e598115e047a5b88d1334efda4cfd1faccf8da6f06522048"
   }
  }
 },
 "nbformat": 4,
 "nbformat_minor": 2
}
